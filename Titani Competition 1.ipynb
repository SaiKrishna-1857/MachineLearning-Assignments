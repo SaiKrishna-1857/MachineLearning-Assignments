{
 "cells": [
  {
   "cell_type": "code",
   "execution_count": 1,
   "id": "62a4d0e0",
   "metadata": {
    "execution": {
     "iopub.execute_input": "2022-08-16T08:41:08.542400Z",
     "iopub.status.busy": "2022-08-16T08:41:08.541207Z",
     "iopub.status.idle": "2022-08-16T08:41:10.135330Z",
     "shell.execute_reply": "2022-08-16T08:41:10.134114Z"
    },
    "papermill": {
     "duration": 1.605608,
     "end_time": "2022-08-16T08:41:10.138048",
     "exception": false,
     "start_time": "2022-08-16T08:41:08.532440",
     "status": "completed"
    },
    "tags": []
   },
   "outputs": [],
   "source": [
    "# Importing required libraries\n",
    "\n",
    "import pandas as pd \n",
    "import numpy as np \n",
    "import matplotlib.pyplot as plt \n",
    "import seaborn as sns \n",
    "import sklearn as skl\n",
    "from sklearn import svm, tree, linear_model, neighbors, naive_bayes, ensemble, discriminant_analysis, gaussian_process, metrics\n",
    "\n",
    "from sklearn.preprocessing import MinMaxScaler, StandardScaler, OneHotEncoder, LabelEncoder\n",
    "from sklearn.neighbors import KNeighborsClassifier\n",
    "from sklearn.model_selection import train_test_split, KFold, cross_val_score, cross_val_predict, cross_validate, GridSearchCV\n",
    "from sklearn import feature_selection, model_selection, metrics\n",
    "\n",
    "import matplotlib as mpl\n",
    "import matplotlib.pylab as pylab\n",
    "from pandas.plotting import scatter_matrix"
   ]
  },
  {
   "cell_type": "markdown",
   "id": "ada49613",
   "metadata": {
    "papermill": {
     "duration": 0.007193,
     "end_time": "2022-08-16T08:41:10.153411",
     "exception": false,
     "start_time": "2022-08-16T08:41:10.146218",
     "status": "completed"
    },
    "tags": []
   },
   "source": [
    "#### Getting Training and Testing data"
   ]
  },
  {
   "cell_type": "code",
   "execution_count": 2,
   "id": "4978bccd",
   "metadata": {
    "execution": {
     "iopub.execute_input": "2022-08-16T08:41:10.171045Z",
     "iopub.status.busy": "2022-08-16T08:41:10.169980Z",
     "iopub.status.idle": "2022-08-16T08:41:10.207227Z",
     "shell.execute_reply": "2022-08-16T08:41:10.206258Z"
    },
    "papermill": {
     "duration": 0.048772,
     "end_time": "2022-08-16T08:41:10.209819",
     "exception": false,
     "start_time": "2022-08-16T08:41:10.161047",
     "status": "completed"
    },
    "tags": []
   },
   "outputs": [],
   "source": [
    "train_df = pd.read_csv(\"../input/train.csv\")\n",
    "test_df = pd.read_csv(\"../input/test.csv\")\n",
    "full_data_df = pd.concat([train_df, test_df], axis = 0)"
   ]
  },
  {
   "cell_type": "code",
   "execution_count": 3,
   "id": "3be05dd9",
   "metadata": {},
   "outputs": [
    {
     "name": "stdout",
     "output_type": "stream",
     "text": [
      "<class 'pandas.core.frame.DataFrame'>\n",
      "Int64Index: 1309 entries, 0 to 417\n",
      "Data columns (total 12 columns):\n",
      " #   Column       Non-Null Count  Dtype  \n",
      "---  ------       --------------  -----  \n",
      " 0   PassengerId  1309 non-null   int64  \n",
      " 1   Survived     891 non-null    float64\n",
      " 2   Pclass       1309 non-null   int64  \n",
      " 3   Name         1309 non-null   object \n",
      " 4   Sex          1309 non-null   object \n",
      " 5   Age          1046 non-null   float64\n",
      " 6   SibSp        1309 non-null   int64  \n",
      " 7   Parch        1309 non-null   int64  \n",
      " 8   Ticket       1309 non-null   object \n",
      " 9   Fare         1308 non-null   float64\n",
      " 10  Cabin        295 non-null    object \n",
      " 11  Embarked     1307 non-null   object \n",
      "dtypes: float64(3), int64(4), object(5)\n",
      "memory usage: 132.9+ KB\n"
     ]
    }
   ],
   "source": [
    "full_data_df.info()"
   ]
  },
  {
   "cell_type": "code",
   "execution_count": 4,
   "id": "9e946903",
   "metadata": {
    "execution": {
     "iopub.execute_input": "2022-08-16T08:41:10.226733Z",
     "iopub.status.busy": "2022-08-16T08:41:10.226266Z",
     "iopub.status.idle": "2022-08-16T08:41:10.255083Z",
     "shell.execute_reply": "2022-08-16T08:41:10.253926Z"
    },
    "papermill": {
     "duration": 0.039989,
     "end_time": "2022-08-16T08:41:10.257671",
     "exception": false,
     "start_time": "2022-08-16T08:41:10.217682",
     "status": "completed"
    },
    "scrolled": true,
    "tags": []
   },
   "outputs": [
    {
     "data": {
      "text/html": [
       "<div>\n",
       "<style scoped>\n",
       "    .dataframe tbody tr th:only-of-type {\n",
       "        vertical-align: middle;\n",
       "    }\n",
       "\n",
       "    .dataframe tbody tr th {\n",
       "        vertical-align: top;\n",
       "    }\n",
       "\n",
       "    .dataframe thead th {\n",
       "        text-align: right;\n",
       "    }\n",
       "</style>\n",
       "<table border=\"1\" class=\"dataframe\">\n",
       "  <thead>\n",
       "    <tr style=\"text-align: right;\">\n",
       "      <th></th>\n",
       "      <th>PassengerId</th>\n",
       "      <th>Survived</th>\n",
       "      <th>Pclass</th>\n",
       "      <th>Name</th>\n",
       "      <th>Sex</th>\n",
       "      <th>Age</th>\n",
       "      <th>SibSp</th>\n",
       "      <th>Parch</th>\n",
       "      <th>Ticket</th>\n",
       "      <th>Fare</th>\n",
       "      <th>Cabin</th>\n",
       "      <th>Embarked</th>\n",
       "    </tr>\n",
       "  </thead>\n",
       "  <tbody>\n",
       "    <tr>\n",
       "      <th>0</th>\n",
       "      <td>1</td>\n",
       "      <td>0.0</td>\n",
       "      <td>3</td>\n",
       "      <td>Braund, Mr. Owen Harris</td>\n",
       "      <td>male</td>\n",
       "      <td>22.0</td>\n",
       "      <td>1</td>\n",
       "      <td>0</td>\n",
       "      <td>A/5 21171</td>\n",
       "      <td>7.2500</td>\n",
       "      <td>NaN</td>\n",
       "      <td>S</td>\n",
       "    </tr>\n",
       "    <tr>\n",
       "      <th>1</th>\n",
       "      <td>2</td>\n",
       "      <td>1.0</td>\n",
       "      <td>1</td>\n",
       "      <td>Cumings, Mrs. John Bradley (Florence Briggs Th...</td>\n",
       "      <td>female</td>\n",
       "      <td>38.0</td>\n",
       "      <td>1</td>\n",
       "      <td>0</td>\n",
       "      <td>PC 17599</td>\n",
       "      <td>71.2833</td>\n",
       "      <td>C85</td>\n",
       "      <td>C</td>\n",
       "    </tr>\n",
       "    <tr>\n",
       "      <th>2</th>\n",
       "      <td>3</td>\n",
       "      <td>1.0</td>\n",
       "      <td>3</td>\n",
       "      <td>Heikkinen, Miss. Laina</td>\n",
       "      <td>female</td>\n",
       "      <td>26.0</td>\n",
       "      <td>0</td>\n",
       "      <td>0</td>\n",
       "      <td>STON/O2. 3101282</td>\n",
       "      <td>7.9250</td>\n",
       "      <td>NaN</td>\n",
       "      <td>S</td>\n",
       "    </tr>\n",
       "    <tr>\n",
       "      <th>3</th>\n",
       "      <td>4</td>\n",
       "      <td>1.0</td>\n",
       "      <td>1</td>\n",
       "      <td>Futrelle, Mrs. Jacques Heath (Lily May Peel)</td>\n",
       "      <td>female</td>\n",
       "      <td>35.0</td>\n",
       "      <td>1</td>\n",
       "      <td>0</td>\n",
       "      <td>113803</td>\n",
       "      <td>53.1000</td>\n",
       "      <td>C123</td>\n",
       "      <td>S</td>\n",
       "    </tr>\n",
       "    <tr>\n",
       "      <th>4</th>\n",
       "      <td>5</td>\n",
       "      <td>0.0</td>\n",
       "      <td>3</td>\n",
       "      <td>Allen, Mr. William Henry</td>\n",
       "      <td>male</td>\n",
       "      <td>35.0</td>\n",
       "      <td>0</td>\n",
       "      <td>0</td>\n",
       "      <td>373450</td>\n",
       "      <td>8.0500</td>\n",
       "      <td>NaN</td>\n",
       "      <td>S</td>\n",
       "    </tr>\n",
       "    <tr>\n",
       "      <th>5</th>\n",
       "      <td>6</td>\n",
       "      <td>0.0</td>\n",
       "      <td>3</td>\n",
       "      <td>Moran, Mr. James</td>\n",
       "      <td>male</td>\n",
       "      <td>NaN</td>\n",
       "      <td>0</td>\n",
       "      <td>0</td>\n",
       "      <td>330877</td>\n",
       "      <td>8.4583</td>\n",
       "      <td>NaN</td>\n",
       "      <td>Q</td>\n",
       "    </tr>\n",
       "    <tr>\n",
       "      <th>6</th>\n",
       "      <td>7</td>\n",
       "      <td>0.0</td>\n",
       "      <td>1</td>\n",
       "      <td>McCarthy, Mr. Timothy J</td>\n",
       "      <td>male</td>\n",
       "      <td>54.0</td>\n",
       "      <td>0</td>\n",
       "      <td>0</td>\n",
       "      <td>17463</td>\n",
       "      <td>51.8625</td>\n",
       "      <td>E46</td>\n",
       "      <td>S</td>\n",
       "    </tr>\n",
       "    <tr>\n",
       "      <th>7</th>\n",
       "      <td>8</td>\n",
       "      <td>0.0</td>\n",
       "      <td>3</td>\n",
       "      <td>Palsson, Master. Gosta Leonard</td>\n",
       "      <td>male</td>\n",
       "      <td>2.0</td>\n",
       "      <td>3</td>\n",
       "      <td>1</td>\n",
       "      <td>349909</td>\n",
       "      <td>21.0750</td>\n",
       "      <td>NaN</td>\n",
       "      <td>S</td>\n",
       "    </tr>\n",
       "    <tr>\n",
       "      <th>8</th>\n",
       "      <td>9</td>\n",
       "      <td>1.0</td>\n",
       "      <td>3</td>\n",
       "      <td>Johnson, Mrs. Oscar W (Elisabeth Vilhelmina Berg)</td>\n",
       "      <td>female</td>\n",
       "      <td>27.0</td>\n",
       "      <td>0</td>\n",
       "      <td>2</td>\n",
       "      <td>347742</td>\n",
       "      <td>11.1333</td>\n",
       "      <td>NaN</td>\n",
       "      <td>S</td>\n",
       "    </tr>\n",
       "    <tr>\n",
       "      <th>9</th>\n",
       "      <td>10</td>\n",
       "      <td>1.0</td>\n",
       "      <td>2</td>\n",
       "      <td>Nasser, Mrs. Nicholas (Adele Achem)</td>\n",
       "      <td>female</td>\n",
       "      <td>14.0</td>\n",
       "      <td>1</td>\n",
       "      <td>0</td>\n",
       "      <td>237736</td>\n",
       "      <td>30.0708</td>\n",
       "      <td>NaN</td>\n",
       "      <td>C</td>\n",
       "    </tr>\n",
       "  </tbody>\n",
       "</table>\n",
       "</div>"
      ],
      "text/plain": [
       "   PassengerId  Survived  Pclass  \\\n",
       "0            1       0.0       3   \n",
       "1            2       1.0       1   \n",
       "2            3       1.0       3   \n",
       "3            4       1.0       1   \n",
       "4            5       0.0       3   \n",
       "5            6       0.0       3   \n",
       "6            7       0.0       1   \n",
       "7            8       0.0       3   \n",
       "8            9       1.0       3   \n",
       "9           10       1.0       2   \n",
       "\n",
       "                                                Name     Sex   Age  SibSp  \\\n",
       "0                            Braund, Mr. Owen Harris    male  22.0      1   \n",
       "1  Cumings, Mrs. John Bradley (Florence Briggs Th...  female  38.0      1   \n",
       "2                             Heikkinen, Miss. Laina  female  26.0      0   \n",
       "3       Futrelle, Mrs. Jacques Heath (Lily May Peel)  female  35.0      1   \n",
       "4                           Allen, Mr. William Henry    male  35.0      0   \n",
       "5                                   Moran, Mr. James    male   NaN      0   \n",
       "6                            McCarthy, Mr. Timothy J    male  54.0      0   \n",
       "7                     Palsson, Master. Gosta Leonard    male   2.0      3   \n",
       "8  Johnson, Mrs. Oscar W (Elisabeth Vilhelmina Berg)  female  27.0      0   \n",
       "9                Nasser, Mrs. Nicholas (Adele Achem)  female  14.0      1   \n",
       "\n",
       "   Parch            Ticket     Fare Cabin Embarked  \n",
       "0      0         A/5 21171   7.2500   NaN        S  \n",
       "1      0          PC 17599  71.2833   C85        C  \n",
       "2      0  STON/O2. 3101282   7.9250   NaN        S  \n",
       "3      0            113803  53.1000  C123        S  \n",
       "4      0            373450   8.0500   NaN        S  \n",
       "5      0            330877   8.4583   NaN        Q  \n",
       "6      0             17463  51.8625   E46        S  \n",
       "7      1            349909  21.0750   NaN        S  \n",
       "8      2            347742  11.1333   NaN        S  \n",
       "9      0            237736  30.0708   NaN        C  "
      ]
     },
     "execution_count": 4,
     "metadata": {},
     "output_type": "execute_result"
    }
   ],
   "source": [
    "full_data_df.head(10)"
   ]
  },
  {
   "cell_type": "code",
   "execution_count": 5,
   "id": "fa337f83",
   "metadata": {
    "scrolled": false
   },
   "outputs": [
    {
     "data": {
      "text/html": [
       "<div>\n",
       "<style scoped>\n",
       "    .dataframe tbody tr th:only-of-type {\n",
       "        vertical-align: middle;\n",
       "    }\n",
       "\n",
       "    .dataframe tbody tr th {\n",
       "        vertical-align: top;\n",
       "    }\n",
       "\n",
       "    .dataframe thead th {\n",
       "        text-align: right;\n",
       "    }\n",
       "</style>\n",
       "<table border=\"1\" class=\"dataframe\">\n",
       "  <thead>\n",
       "    <tr style=\"text-align: right;\">\n",
       "      <th></th>\n",
       "      <th>PassengerId</th>\n",
       "      <th>Survived</th>\n",
       "      <th>Pclass</th>\n",
       "      <th>Name</th>\n",
       "      <th>Sex</th>\n",
       "      <th>Age</th>\n",
       "      <th>SibSp</th>\n",
       "      <th>Parch</th>\n",
       "      <th>Ticket</th>\n",
       "      <th>Fare</th>\n",
       "      <th>Cabin</th>\n",
       "      <th>Embarked</th>\n",
       "    </tr>\n",
       "  </thead>\n",
       "  <tbody>\n",
       "    <tr>\n",
       "      <th>408</th>\n",
       "      <td>1300</td>\n",
       "      <td>NaN</td>\n",
       "      <td>3</td>\n",
       "      <td>Riordan, Miss. Johanna Hannah\"\"</td>\n",
       "      <td>female</td>\n",
       "      <td>NaN</td>\n",
       "      <td>0</td>\n",
       "      <td>0</td>\n",
       "      <td>334915</td>\n",
       "      <td>7.7208</td>\n",
       "      <td>NaN</td>\n",
       "      <td>Q</td>\n",
       "    </tr>\n",
       "    <tr>\n",
       "      <th>409</th>\n",
       "      <td>1301</td>\n",
       "      <td>NaN</td>\n",
       "      <td>3</td>\n",
       "      <td>Peacock, Miss. Treasteall</td>\n",
       "      <td>female</td>\n",
       "      <td>3.0</td>\n",
       "      <td>1</td>\n",
       "      <td>1</td>\n",
       "      <td>SOTON/O.Q. 3101315</td>\n",
       "      <td>13.7750</td>\n",
       "      <td>NaN</td>\n",
       "      <td>S</td>\n",
       "    </tr>\n",
       "    <tr>\n",
       "      <th>410</th>\n",
       "      <td>1302</td>\n",
       "      <td>NaN</td>\n",
       "      <td>3</td>\n",
       "      <td>Naughton, Miss. Hannah</td>\n",
       "      <td>female</td>\n",
       "      <td>NaN</td>\n",
       "      <td>0</td>\n",
       "      <td>0</td>\n",
       "      <td>365237</td>\n",
       "      <td>7.7500</td>\n",
       "      <td>NaN</td>\n",
       "      <td>Q</td>\n",
       "    </tr>\n",
       "    <tr>\n",
       "      <th>411</th>\n",
       "      <td>1303</td>\n",
       "      <td>NaN</td>\n",
       "      <td>1</td>\n",
       "      <td>Minahan, Mrs. William Edward (Lillian E Thorpe)</td>\n",
       "      <td>female</td>\n",
       "      <td>37.0</td>\n",
       "      <td>1</td>\n",
       "      <td>0</td>\n",
       "      <td>19928</td>\n",
       "      <td>90.0000</td>\n",
       "      <td>C78</td>\n",
       "      <td>Q</td>\n",
       "    </tr>\n",
       "    <tr>\n",
       "      <th>412</th>\n",
       "      <td>1304</td>\n",
       "      <td>NaN</td>\n",
       "      <td>3</td>\n",
       "      <td>Henriksson, Miss. Jenny Lovisa</td>\n",
       "      <td>female</td>\n",
       "      <td>28.0</td>\n",
       "      <td>0</td>\n",
       "      <td>0</td>\n",
       "      <td>347086</td>\n",
       "      <td>7.7750</td>\n",
       "      <td>NaN</td>\n",
       "      <td>S</td>\n",
       "    </tr>\n",
       "    <tr>\n",
       "      <th>413</th>\n",
       "      <td>1305</td>\n",
       "      <td>NaN</td>\n",
       "      <td>3</td>\n",
       "      <td>Spector, Mr. Woolf</td>\n",
       "      <td>male</td>\n",
       "      <td>NaN</td>\n",
       "      <td>0</td>\n",
       "      <td>0</td>\n",
       "      <td>A.5. 3236</td>\n",
       "      <td>8.0500</td>\n",
       "      <td>NaN</td>\n",
       "      <td>S</td>\n",
       "    </tr>\n",
       "    <tr>\n",
       "      <th>414</th>\n",
       "      <td>1306</td>\n",
       "      <td>NaN</td>\n",
       "      <td>1</td>\n",
       "      <td>Oliva y Ocana, Dona. Fermina</td>\n",
       "      <td>female</td>\n",
       "      <td>39.0</td>\n",
       "      <td>0</td>\n",
       "      <td>0</td>\n",
       "      <td>PC 17758</td>\n",
       "      <td>108.9000</td>\n",
       "      <td>C105</td>\n",
       "      <td>C</td>\n",
       "    </tr>\n",
       "    <tr>\n",
       "      <th>415</th>\n",
       "      <td>1307</td>\n",
       "      <td>NaN</td>\n",
       "      <td>3</td>\n",
       "      <td>Saether, Mr. Simon Sivertsen</td>\n",
       "      <td>male</td>\n",
       "      <td>38.5</td>\n",
       "      <td>0</td>\n",
       "      <td>0</td>\n",
       "      <td>SOTON/O.Q. 3101262</td>\n",
       "      <td>7.2500</td>\n",
       "      <td>NaN</td>\n",
       "      <td>S</td>\n",
       "    </tr>\n",
       "    <tr>\n",
       "      <th>416</th>\n",
       "      <td>1308</td>\n",
       "      <td>NaN</td>\n",
       "      <td>3</td>\n",
       "      <td>Ware, Mr. Frederick</td>\n",
       "      <td>male</td>\n",
       "      <td>NaN</td>\n",
       "      <td>0</td>\n",
       "      <td>0</td>\n",
       "      <td>359309</td>\n",
       "      <td>8.0500</td>\n",
       "      <td>NaN</td>\n",
       "      <td>S</td>\n",
       "    </tr>\n",
       "    <tr>\n",
       "      <th>417</th>\n",
       "      <td>1309</td>\n",
       "      <td>NaN</td>\n",
       "      <td>3</td>\n",
       "      <td>Peter, Master. Michael J</td>\n",
       "      <td>male</td>\n",
       "      <td>NaN</td>\n",
       "      <td>1</td>\n",
       "      <td>1</td>\n",
       "      <td>2668</td>\n",
       "      <td>22.3583</td>\n",
       "      <td>NaN</td>\n",
       "      <td>C</td>\n",
       "    </tr>\n",
       "  </tbody>\n",
       "</table>\n",
       "</div>"
      ],
      "text/plain": [
       "     PassengerId  Survived  Pclass  \\\n",
       "408         1300       NaN       3   \n",
       "409         1301       NaN       3   \n",
       "410         1302       NaN       3   \n",
       "411         1303       NaN       1   \n",
       "412         1304       NaN       3   \n",
       "413         1305       NaN       3   \n",
       "414         1306       NaN       1   \n",
       "415         1307       NaN       3   \n",
       "416         1308       NaN       3   \n",
       "417         1309       NaN       3   \n",
       "\n",
       "                                                Name     Sex   Age  SibSp  \\\n",
       "408                  Riordan, Miss. Johanna Hannah\"\"  female   NaN      0   \n",
       "409                        Peacock, Miss. Treasteall  female   3.0      1   \n",
       "410                           Naughton, Miss. Hannah  female   NaN      0   \n",
       "411  Minahan, Mrs. William Edward (Lillian E Thorpe)  female  37.0      1   \n",
       "412                   Henriksson, Miss. Jenny Lovisa  female  28.0      0   \n",
       "413                               Spector, Mr. Woolf    male   NaN      0   \n",
       "414                     Oliva y Ocana, Dona. Fermina  female  39.0      0   \n",
       "415                     Saether, Mr. Simon Sivertsen    male  38.5      0   \n",
       "416                              Ware, Mr. Frederick    male   NaN      0   \n",
       "417                         Peter, Master. Michael J    male   NaN      1   \n",
       "\n",
       "     Parch              Ticket      Fare Cabin Embarked  \n",
       "408      0              334915    7.7208   NaN        Q  \n",
       "409      1  SOTON/O.Q. 3101315   13.7750   NaN        S  \n",
       "410      0              365237    7.7500   NaN        Q  \n",
       "411      0               19928   90.0000   C78        Q  \n",
       "412      0              347086    7.7750   NaN        S  \n",
       "413      0           A.5. 3236    8.0500   NaN        S  \n",
       "414      0            PC 17758  108.9000  C105        C  \n",
       "415      0  SOTON/O.Q. 3101262    7.2500   NaN        S  \n",
       "416      0              359309    8.0500   NaN        S  \n",
       "417      1                2668   22.3583   NaN        C  "
      ]
     },
     "execution_count": 5,
     "metadata": {},
     "output_type": "execute_result"
    }
   ],
   "source": [
    "full_data_df.tail(10)"
   ]
  },
  {
   "cell_type": "markdown",
   "id": "91c154ff",
   "metadata": {},
   "source": [
    "We are retaining the indexes in the above concat operation to identify the train and test data and apply the feature engineering."
   ]
  },
  {
   "cell_type": "markdown",
   "id": "6c29416a",
   "metadata": {},
   "source": [
    "**Let us now find the correlation between the features**"
   ]
  },
  {
   "cell_type": "code",
   "execution_count": 6,
   "id": "5ef53751",
   "metadata": {},
   "outputs": [
    {
     "data": {
      "text/plain": [
       "-0.07722109457217764"
      ]
     },
     "execution_count": 6,
     "metadata": {},
     "output_type": "execute_result"
    }
   ],
   "source": [
    "train_df['Survived'].corr(train_df['Age'])"
   ]
  },
  {
   "cell_type": "code",
   "execution_count": 7,
   "id": "d69c6ed4",
   "metadata": {},
   "outputs": [
    {
     "data": {
      "text/plain": [
       "-0.5494996199439077"
      ]
     },
     "execution_count": 7,
     "metadata": {},
     "output_type": "execute_result"
    }
   ],
   "source": [
    "train_df['Pclass'].corr(train_df['Fare'])"
   ]
  },
  {
   "cell_type": "code",
   "execution_count": 8,
   "id": "a00fa55b",
   "metadata": {},
   "outputs": [
    {
     "data": {
      "image/png": "[encoded data removed]",
      "text/plain": [
       "<Figure size 432x288 with 2 Axes>"
      ]
     },
     "metadata": {
      "needs_background": "light"
     },
     "output_type": "display_data"
    }
   ],
   "source": [
    "sns.heatmap(train_df.corr(), annot=True)\n",
    "plt.show()"
   ]
  },
  {
   "cell_type": "markdown",
   "id": "4b20c528",
   "metadata": {
    "papermill": {
     "duration": 0.007727,
     "end_time": "2022-08-16T08:41:10.274862",
     "exception": false,
     "start_time": "2022-08-16T08:41:10.267135",
     "status": "completed"
    },
    "tags": []
   },
   "source": [
    "####  Description to the above correlation matrix\n",
    "\n",
    "Here with the above correlation matrix we can deduce that the Sibsp and Parch have strong positive correlation. This is because parents travel with the children and childrens might have siblings.\n",
    "Also, Pclass and Fare have strong negative correlation. This is because First class tickets are more expensive than the third class tickets."
   ]
  },
  {
   "cell_type": "markdown",
   "id": "0a75e725",
   "metadata": {
    "papermill": {
     "duration": 0.00834,
     "end_time": "2022-08-16T08:41:10.291844",
     "exception": false,
     "start_time": "2022-08-16T08:41:10.283504",
     "status": "completed"
    },
    "tags": []
   },
   "source": [
    "**We have many titles like Mlle, Col, Mme etc., Let us replace all the titles with some generic titles like Dr, Master, Miss, Mr, Mrs, Rev**"
   ]
  },
  {
   "cell_type": "code",
   "execution_count": 9,
   "id": "a49941a1",
   "metadata": {
    "execution": {
     "iopub.execute_input": "2022-08-16T08:41:10.309744Z",
     "iopub.status.busy": "2022-08-16T08:41:10.309336Z",
     "iopub.status.idle": "2022-08-16T08:41:15.371369Z",
     "shell.execute_reply": "2022-08-16T08:41:15.370173Z"
    },
    "papermill": {
     "duration": 5.074087,
     "end_time": "2022-08-16T08:41:15.374005",
     "exception": false,
     "start_time": "2022-08-16T08:41:10.299918",
     "status": "completed"
    },
    "tags": []
   },
   "outputs": [],
   "source": [
    "full_data_df['Title'] = full_data_df['Name']\n",
    "for name_str in full_data_df['Name']:\n",
    "    full_data_df['Title'] = full_data_df['Name'].str.extract('([A-Za-z]+)\\.', expand = True)\n",
    "\n",
    "map_titles = {'Mlle': 'Miss', 'Major': 'Mr', 'Col': 'Mr', \n",
    "              'Sir': 'Mr', 'Don': 'Mr', 'Mme': 'Miss', \n",
    "              'Jonkheer': 'Mr', 'Lady': 'Mrs', 'Capt': 'Mr', \n",
    "              'Countess': 'Mrs', 'Ms': 'Miss', 'Dona': 'Mrs'}\n",
    "full_data_df.replace({'Title': map_titles}, inplace = True)\n",
    "required_titles = ['Dr', 'Master', 'Miss', 'Mr', 'Mrs', 'Rev']\n",
    "for title in required_titles:\n",
    "    age_to_assign = full_data_df.groupby('Title')['Age'].median()[required_titles.index(title)]\n",
    "    full_data_df.loc[(full_data_df['Age'].isnull()) & (full_data_df['Title'] == title), 'Age'] = age_to_assign\n",
    "    \n",
    "# let us now substitute Age values in train_df, test_df\n",
    "train_df['Age'] = full_data_df['Age'][:891]\n",
    "test_df['Age'] = full_data_df['Age'][891:]\n",
    "\n",
    "# We no longer need Title feature in full_data_df. So lets drop it.\n",
    "full_data_df.drop('Title', axis = 1, inplace = True)"
   ]
  },
  {
   "cell_type": "markdown",
   "id": "9e43952a",
   "metadata": {
    "papermill": {
     "duration": 0.007912,
     "end_time": "2022-08-16T08:41:15.390005",
     "exception": false,
     "start_time": "2022-08-16T08:41:15.382093",
     "status": "completed"
    },
    "tags": []
   },
   "source": [
    "**Engineering a new feature total family size from the existing features sibsp and parch**"
   ]
  },
  {
   "cell_type": "code",
   "execution_count": 10,
   "id": "b19b8c88",
   "metadata": {
    "execution": {
     "iopub.execute_input": "2022-08-16T08:41:15.407923Z",
     "iopub.status.busy": "2022-08-16T08:41:15.407157Z",
     "iopub.status.idle": "2022-08-16T08:41:15.415574Z",
     "shell.execute_reply": "2022-08-16T08:41:15.414386Z"
    },
    "papermill": {
     "duration": 0.019893,
     "end_time": "2022-08-16T08:41:15.417828",
     "exception": false,
     "start_time": "2022-08-16T08:41:15.397935",
     "status": "completed"
    },
    "tags": []
   },
   "outputs": [],
   "source": [
    "full_data_df['Total_Family_Size'] = full_data_df['Parch'] + full_data_df['SibSp']\n",
    "\n",
    "# Substitue the values of the new feature Total_Family_Size in the train_df and test_df\n",
    "train_df['Total_Family_Size'] = full_data_df['Total_Family_Size'][:891]\n",
    "test_df['Total_Family_Size'] = full_data_df['Total_Family_Size'][891:]"
   ]
  },
  {
   "cell_type": "code",
   "execution_count": 11,
   "id": "73cac930",
   "metadata": {
    "scrolled": true
   },
   "outputs": [
    {
     "data": {
      "text/html": [
       "<div>\n",
       "<style scoped>\n",
       "    .dataframe tbody tr th:only-of-type {\n",
       "        vertical-align: middle;\n",
       "    }\n",
       "\n",
       "    .dataframe tbody tr th {\n",
       "        vertical-align: top;\n",
       "    }\n",
       "\n",
       "    .dataframe thead th {\n",
       "        text-align: right;\n",
       "    }\n",
       "</style>\n",
       "<table border=\"1\" class=\"dataframe\">\n",
       "  <thead>\n",
       "    <tr style=\"text-align: right;\">\n",
       "      <th></th>\n",
       "      <th>PassengerId</th>\n",
       "      <th>Survived</th>\n",
       "      <th>Pclass</th>\n",
       "      <th>Name</th>\n",
       "      <th>Sex</th>\n",
       "      <th>Age</th>\n",
       "      <th>SibSp</th>\n",
       "      <th>Parch</th>\n",
       "      <th>Ticket</th>\n",
       "      <th>Fare</th>\n",
       "      <th>Cabin</th>\n",
       "      <th>Embarked</th>\n",
       "      <th>Total_Family_Size</th>\n",
       "    </tr>\n",
       "  </thead>\n",
       "  <tbody>\n",
       "    <tr>\n",
       "      <th>0</th>\n",
       "      <td>1</td>\n",
       "      <td>0</td>\n",
       "      <td>3</td>\n",
       "      <td>Braund, Mr. Owen Harris</td>\n",
       "      <td>male</td>\n",
       "      <td>22.0</td>\n",
       "      <td>1</td>\n",
       "      <td>0</td>\n",
       "      <td>A/5 21171</td>\n",
       "      <td>7.2500</td>\n",
       "      <td>NaN</td>\n",
       "      <td>S</td>\n",
       "      <td>1</td>\n",
       "    </tr>\n",
       "    <tr>\n",
       "      <th>1</th>\n",
       "      <td>2</td>\n",
       "      <td>1</td>\n",
       "      <td>1</td>\n",
       "      <td>Cumings, Mrs. John Bradley (Florence Briggs Th...</td>\n",
       "      <td>female</td>\n",
       "      <td>38.0</td>\n",
       "      <td>1</td>\n",
       "      <td>0</td>\n",
       "      <td>PC 17599</td>\n",
       "      <td>71.2833</td>\n",
       "      <td>C85</td>\n",
       "      <td>C</td>\n",
       "      <td>1</td>\n",
       "    </tr>\n",
       "    <tr>\n",
       "      <th>2</th>\n",
       "      <td>3</td>\n",
       "      <td>1</td>\n",
       "      <td>3</td>\n",
       "      <td>Heikkinen, Miss. Laina</td>\n",
       "      <td>female</td>\n",
       "      <td>26.0</td>\n",
       "      <td>0</td>\n",
       "      <td>0</td>\n",
       "      <td>STON/O2. 3101282</td>\n",
       "      <td>7.9250</td>\n",
       "      <td>NaN</td>\n",
       "      <td>S</td>\n",
       "      <td>0</td>\n",
       "    </tr>\n",
       "    <tr>\n",
       "      <th>3</th>\n",
       "      <td>4</td>\n",
       "      <td>1</td>\n",
       "      <td>1</td>\n",
       "      <td>Futrelle, Mrs. Jacques Heath (Lily May Peel)</td>\n",
       "      <td>female</td>\n",
       "      <td>35.0</td>\n",
       "      <td>1</td>\n",
       "      <td>0</td>\n",
       "      <td>113803</td>\n",
       "      <td>53.1000</td>\n",
       "      <td>C123</td>\n",
       "      <td>S</td>\n",
       "      <td>1</td>\n",
       "    </tr>\n",
       "    <tr>\n",
       "      <th>4</th>\n",
       "      <td>5</td>\n",
       "      <td>0</td>\n",
       "      <td>3</td>\n",
       "      <td>Allen, Mr. William Henry</td>\n",
       "      <td>male</td>\n",
       "      <td>35.0</td>\n",
       "      <td>0</td>\n",
       "      <td>0</td>\n",
       "      <td>373450</td>\n",
       "      <td>8.0500</td>\n",
       "      <td>NaN</td>\n",
       "      <td>S</td>\n",
       "      <td>0</td>\n",
       "    </tr>\n",
       "  </tbody>\n",
       "</table>\n",
       "</div>"
      ],
      "text/plain": [
       "   PassengerId  Survived  Pclass  \\\n",
       "0            1         0       3   \n",
       "1            2         1       1   \n",
       "2            3         1       3   \n",
       "3            4         1       1   \n",
       "4            5         0       3   \n",
       "\n",
       "                                                Name     Sex   Age  SibSp  \\\n",
       "0                            Braund, Mr. Owen Harris    male  22.0      1   \n",
       "1  Cumings, Mrs. John Bradley (Florence Briggs Th...  female  38.0      1   \n",
       "2                             Heikkinen, Miss. Laina  female  26.0      0   \n",
       "3       Futrelle, Mrs. Jacques Heath (Lily May Peel)  female  35.0      1   \n",
       "4                           Allen, Mr. William Henry    male  35.0      0   \n",
       "\n",
       "   Parch            Ticket     Fare Cabin Embarked  Total_Family_Size  \n",
       "0      0         A/5 21171   7.2500   NaN        S                  1  \n",
       "1      0          PC 17599  71.2833   C85        C                  1  \n",
       "2      0  STON/O2. 3101282   7.9250   NaN        S                  0  \n",
       "3      0            113803  53.1000  C123        S                  1  \n",
       "4      0            373450   8.0500   NaN        S                  0  "
      ]
     },
     "execution_count": 11,
     "metadata": {},
     "output_type": "execute_result"
    }
   ],
   "source": [
    "train_df.head()"
   ]
  },
  {
   "cell_type": "markdown",
   "id": "207c2fa5",
   "metadata": {},
   "source": [
    "**Let us now use the Last Name from the Name feature since we can establish a correlation between survial chances and Family Size**"
   ]
  },
  {
   "cell_type": "code",
   "execution_count": 12,
   "id": "39679eaf",
   "metadata": {
    "execution": {
     "iopub.execute_input": "2022-08-16T08:41:15.435500Z",
     "iopub.status.busy": "2022-08-16T08:41:15.435124Z",
     "iopub.status.idle": "2022-08-16T08:41:16.324329Z",
     "shell.execute_reply": "2022-08-16T08:41:16.323090Z"
    },
    "papermill": {
     "duration": 0.901159,
     "end_time": "2022-08-16T08:41:16.326959",
     "exception": false,
     "start_time": "2022-08-16T08:41:15.425800",
     "status": "completed"
    },
    "tags": []
   },
   "outputs": [
    {
     "name": "stdout",
     "output_type": "stream",
     "text": [
      "No.of passengers with information about family survival chances: 420\n"
     ]
    }
   ],
   "source": [
    "full_data_df['Last_Name'] = full_data_df['Name'].apply(lambda x: str.split(x, \",\")[0])\n",
    "full_data_df['Fare'].fillna(full_data_df['Fare'].mean(), inplace=True)\n",
    "\n",
    "# Since, the minimum chances of survival is 50%, we will conside the default survival rate as 0.5\n",
    "default_survival_rate = 0.5\n",
    "full_data_df['Family_Survival_Chances'] = default_survival_rate\n",
    "\n",
    "for grp, group_df in full_data_df[['Survived','Name', 'Last_Name', 'Fare', 'Ticket', 'PassengerId',\n",
    "                           'SibSp', 'Parch', 'Age', 'Cabin']].groupby(['Last_Name', 'Fare']):\n",
    "    \n",
    "    if (len(group_df) != 1):\n",
    "        for ind, row in group_df.iterrows():\n",
    "            smax = group_df.drop(ind)['Survived'].max()\n",
    "            smin = group_df.drop(ind)['Survived'].min()\n",
    "            passID = row['PassengerId']\n",
    "            if (smax == 1.0):\n",
    "                full_data_df.loc[full_data_df['PassengerId'] == passID, 'Family_Survival_Chances'] = 1\n",
    "            elif (smin==0.0):\n",
    "                full_data_df.loc[full_data_df['PassengerId'] == passID, 'Family_Survival_Chances'] = 0\n",
    "\n",
    "print(\"No.of passengers with information about family survival chances:\", \n",
    "      full_data_df.loc[full_data_df['Family_Survival_Chances']!=0.5].shape[0])"
   ]
  },
  {
   "cell_type": "code",
   "execution_count": 13,
   "id": "4a54d0dc",
   "metadata": {
    "execution": {
     "iopub.execute_input": "2022-08-16T08:41:16.344935Z",
     "iopub.status.busy": "2022-08-16T08:41:16.344512Z",
     "iopub.status.idle": "2022-08-16T08:41:17.019673Z",
     "shell.execute_reply": "2022-08-16T08:41:17.018059Z"
    },
    "papermill": {
     "duration": 0.687479,
     "end_time": "2022-08-16T08:41:17.022548",
     "exception": false,
     "start_time": "2022-08-16T08:41:16.335069",
     "status": "completed"
    },
    "tags": []
   },
   "outputs": [
    {
     "name": "stdout",
     "output_type": "stream",
     "text": [
      "No.of passengers with family/group survival chances information: 546\n"
     ]
    }
   ],
   "source": [
    "for _, group_df in full_data_df.groupby('Ticket'):\n",
    "    if (len(group_df) != 1):\n",
    "        for ind, row in group_df.iterrows():\n",
    "            if (row['Family_Survival_Chances'] == 0) | (row['Family_Survival_Chances']== 0.5):\n",
    "                smax = group_df.drop(ind)['Survived'].max()\n",
    "                smin = group_df.drop(ind)['Survived'].min()\n",
    "                passID = row['PassengerId']\n",
    "                if (smax == 1.0):\n",
    "                    full_data_df.loc[full_data_df['PassengerId'] == passID, 'Family_Survival_Chances'] = 1\n",
    "                elif (smin==0.0):\n",
    "                    full_data_df.loc[full_data_df['PassengerId'] == passID, 'Family_Survival_Chances'] = 0\n",
    "                        \n",
    "print(\"No.of passengers with family/group survival chances information: \" \n",
    "      +str(full_data_df[full_data_df['Family_Survival_Chances']!=0.5].shape[0]))\n",
    "\n",
    "# # Substituing Family_Survival_Chances feature in train_df and test_df:\n",
    "train_df['Family_Survival_Chances'] = full_data_df['Family_Survival_Chances'][:891]\n",
    "test_df['Family_Survival_Chances'] = full_data_df['Family_Survival_Chances'][891:]"
   ]
  },
  {
   "cell_type": "markdown",
   "id": "0b24041c",
   "metadata": {
    "papermill": {
     "duration": 0.007698,
     "end_time": "2022-08-16T08:41:17.038347",
     "exception": false,
     "start_time": "2022-08-16T08:41:17.030649",
     "status": "completed"
    },
    "tags": []
   },
   "source": [
    "**Filling missing values in Fare columns and doing basic encoding on the feature**"
   ]
  },
  {
   "cell_type": "code",
   "execution_count": 14,
   "id": "7ff3b045",
   "metadata": {
    "_kg_hide-output": true,
    "execution": {
     "iopub.execute_input": "2022-08-16T08:41:17.056918Z",
     "iopub.status.busy": "2022-08-16T08:41:17.055679Z",
     "iopub.status.idle": "2022-08-16T08:41:17.082210Z",
     "shell.execute_reply": "2022-08-16T08:41:17.081077Z"
    },
    "papermill": {
     "duration": 0.039348,
     "end_time": "2022-08-16T08:41:17.085677",
     "exception": false,
     "start_time": "2022-08-16T08:41:17.046329",
     "status": "completed"
    },
    "tags": []
   },
   "outputs": [],
   "source": [
    "full_data_df['Fare'].fillna(full_data_df['Fare'].median(), inplace = True)\n",
    "full_data_df['FareBin'] = pd.qcut(full_data_df['Fare'], 5)\n",
    "\n",
    "label = LabelEncoder()\n",
    "full_data_df['FareBin_Code'] = label.fit_transform(full_data_df['FareBin'])\n",
    "\n",
    "train_df['FareBin_Code'] = full_data_df['FareBin_Code'][:891]\n",
    "test_df['FareBin_Code'] = full_data_df['FareBin_Code'][891:]\n",
    "\n",
    "train_df.drop(['Fare'], axis = 1, inplace=True)\n",
    "test_df.drop(['Fare'], axis = 1, inplace=True)"
   ]
  },
  {
   "cell_type": "markdown",
   "id": "e916645b",
   "metadata": {
    "papermill": {
     "duration": 0.007797,
     "end_time": "2022-08-16T08:41:17.102443",
     "exception": false,
     "start_time": "2022-08-16T08:41:17.094646",
     "status": "completed"
    },
    "tags": []
   },
   "source": [
    "**Doing basic encoding on the Age feature**"
   ]
  },
  {
   "cell_type": "code",
   "execution_count": 15,
   "id": "ec99c631",
   "metadata": {
    "_kg_hide-output": true,
    "execution": {
     "iopub.execute_input": "2022-08-16T08:41:17.121187Z",
     "iopub.status.busy": "2022-08-16T08:41:17.120309Z",
     "iopub.status.idle": "2022-08-16T08:41:17.142258Z",
     "shell.execute_reply": "2022-08-16T08:41:17.141057Z"
    },
    "papermill": {
     "duration": 0.033962,
     "end_time": "2022-08-16T08:41:17.144479",
     "exception": false,
     "start_time": "2022-08-16T08:41:17.110517",
     "status": "completed"
    },
    "tags": []
   },
   "outputs": [],
   "source": [
    "full_data_df['AgeBin'] = pd.qcut(full_data_df['Age'], 4)\n",
    "\n",
    "label = LabelEncoder()\n",
    "full_data_df['AgeBin_Code'] = label.fit_transform(full_data_df['AgeBin'])\n",
    "\n",
    "train_df['AgeBin_Code'] = full_data_df['AgeBin_Code'][:891]\n",
    "test_df['AgeBin_Code'] = full_data_df['AgeBin_Code'][891:]\n",
    "\n",
    "train_df.drop(['Age'], axis = 1, inplace=True)\n",
    "test_df.drop(['Age'], axis = 1, inplace=True)"
   ]
  },
  {
   "cell_type": "markdown",
   "id": "df1f0042",
   "metadata": {
    "papermill": {
     "duration": 0.007726,
     "end_time": "2022-08-16T08:41:17.160372",
     "exception": false,
     "start_time": "2022-08-16T08:41:17.152646",
     "status": "completed"
    },
    "tags": []
   },
   "source": [
    "**Replacing Male & Female with binary values(0s and 1s)**"
   ]
  },
  {
   "cell_type": "code",
   "execution_count": 16,
   "id": "1369f8f6",
   "metadata": {
    "execution": {
     "iopub.execute_input": "2022-08-16T08:41:17.178542Z",
     "iopub.status.busy": "2022-08-16T08:41:17.177930Z",
     "iopub.status.idle": "2022-08-16T08:41:17.188757Z",
     "shell.execute_reply": "2022-08-16T08:41:17.187848Z"
    },
    "papermill": {
     "duration": 0.02257,
     "end_time": "2022-08-16T08:41:17.191079",
     "exception": false,
     "start_time": "2022-08-16T08:41:17.168509",
     "status": "completed"
    },
    "tags": []
   },
   "outputs": [],
   "source": [
    "genders = {\"male\": 1, \"female\": 0}\n",
    "train_data = [train_df]\n",
    "test_data = [test_df]\n",
    "\n",
    "for dataset in train_data:\n",
    "    dataset['Sex'] = dataset['Sex'].map(genders)\n",
    "    \n",
    "for dataset in test_data:\n",
    "    dataset['Sex'] = dataset['Sex'].map(genders)"
   ]
  },
  {
   "cell_type": "code",
   "execution_count": 17,
   "id": "09ac3b36",
   "metadata": {},
   "outputs": [
    {
     "data": {
      "image/png": "[encoded data removed]",
      "text/plain": [
       "<Figure size 432x288 with 2 Axes>"
      ]
     },
     "metadata": {
      "needs_background": "light"
     },
     "output_type": "display_data"
    }
   ],
   "source": [
    "sns.heatmap(train_df.corr(), annot=True)\n",
    "plt.show()"
   ]
  },
  {
   "cell_type": "markdown",
   "id": "49279abe",
   "metadata": {},
   "source": [
    " **Dropping some features Name, PassengerId, SibSp, Parch, Ticket, Cabin, Embarked which are used in the previous feature engineering steps**"
   ]
  },
  {
   "cell_type": "code",
   "execution_count": 18,
   "id": "706288a2",
   "metadata": {},
   "outputs": [],
   "source": [
    "train_df.drop(['Name', 'PassengerId','SibSp', 'Parch', 'Ticket', 'Cabin', 'Embarked'], axis = 1, inplace = True)\n",
    "test_df.drop(['Name', 'PassengerId', 'SibSp', 'Parch', 'Ticket', 'Cabin', 'Embarked'], axis = 1, inplace = True)"
   ]
  },
  {
   "cell_type": "code",
   "execution_count": 19,
   "id": "fc6391e6",
   "metadata": {
    "execution": {
     "iopub.execute_input": "2022-08-16T08:41:17.209639Z",
     "iopub.status.busy": "2022-08-16T08:41:17.208905Z",
     "iopub.status.idle": "2022-08-16T08:41:17.220608Z",
     "shell.execute_reply": "2022-08-16T08:41:17.219714Z"
    },
    "papermill": {
     "duration": 0.02344,
     "end_time": "2022-08-16T08:41:17.222748",
     "exception": false,
     "start_time": "2022-08-16T08:41:17.199308",
     "status": "completed"
    },
    "scrolled": true,
    "tags": []
   },
   "outputs": [
    {
     "data": {
      "text/html": [
       "<div>\n",
       "<style scoped>\n",
       "    .dataframe tbody tr th:only-of-type {\n",
       "        vertical-align: middle;\n",
       "    }\n",
       "\n",
       "    .dataframe tbody tr th {\n",
       "        vertical-align: top;\n",
       "    }\n",
       "\n",
       "    .dataframe thead th {\n",
       "        text-align: right;\n",
       "    }\n",
       "</style>\n",
       "<table border=\"1\" class=\"dataframe\">\n",
       "  <thead>\n",
       "    <tr style=\"text-align: right;\">\n",
       "      <th></th>\n",
       "      <th>Survived</th>\n",
       "      <th>Pclass</th>\n",
       "      <th>Sex</th>\n",
       "      <th>Total_Family_Size</th>\n",
       "      <th>Family_Survival_Chances</th>\n",
       "      <th>FareBin_Code</th>\n",
       "      <th>AgeBin_Code</th>\n",
       "    </tr>\n",
       "  </thead>\n",
       "  <tbody>\n",
       "    <tr>\n",
       "      <th>0</th>\n",
       "      <td>0</td>\n",
       "      <td>3</td>\n",
       "      <td>1</td>\n",
       "      <td>1</td>\n",
       "      <td>0.5</td>\n",
       "      <td>0</td>\n",
       "      <td>0</td>\n",
       "    </tr>\n",
       "    <tr>\n",
       "      <th>1</th>\n",
       "      <td>1</td>\n",
       "      <td>1</td>\n",
       "      <td>0</td>\n",
       "      <td>1</td>\n",
       "      <td>0.5</td>\n",
       "      <td>4</td>\n",
       "      <td>3</td>\n",
       "    </tr>\n",
       "    <tr>\n",
       "      <th>2</th>\n",
       "      <td>1</td>\n",
       "      <td>3</td>\n",
       "      <td>0</td>\n",
       "      <td>0</td>\n",
       "      <td>0.5</td>\n",
       "      <td>1</td>\n",
       "      <td>1</td>\n",
       "    </tr>\n",
       "    <tr>\n",
       "      <th>3</th>\n",
       "      <td>1</td>\n",
       "      <td>1</td>\n",
       "      <td>0</td>\n",
       "      <td>1</td>\n",
       "      <td>0.0</td>\n",
       "      <td>4</td>\n",
       "      <td>2</td>\n",
       "    </tr>\n",
       "    <tr>\n",
       "      <th>4</th>\n",
       "      <td>0</td>\n",
       "      <td>3</td>\n",
       "      <td>1</td>\n",
       "      <td>0</td>\n",
       "      <td>0.5</td>\n",
       "      <td>1</td>\n",
       "      <td>2</td>\n",
       "    </tr>\n",
       "  </tbody>\n",
       "</table>\n",
       "</div>"
      ],
      "text/plain": [
       "   Survived  Pclass  Sex  Total_Family_Size  Family_Survival_Chances  \\\n",
       "0         0       3    1                  1                      0.5   \n",
       "1         1       1    0                  1                      0.5   \n",
       "2         1       3    0                  0                      0.5   \n",
       "3         1       1    0                  1                      0.0   \n",
       "4         0       3    1                  0                      0.5   \n",
       "\n",
       "   FareBin_Code  AgeBin_Code  \n",
       "0             0            0  \n",
       "1             4            3  \n",
       "2             1            1  \n",
       "3             4            2  \n",
       "4             1            2  "
      ]
     },
     "execution_count": 19,
     "metadata": {},
     "output_type": "execute_result"
    }
   ],
   "source": [
    "train_df.head(5)"
   ]
  },
  {
   "cell_type": "code",
   "execution_count": 20,
   "id": "5de6474e",
   "metadata": {
    "scrolled": true
   },
   "outputs": [
    {
     "name": "stdout",
     "output_type": "stream",
     "text": [
      "X_train shape = (891, 6)\n",
      "Y_train shape = (891,)\n",
      "Test shape = (418, 6)\n"
     ]
    }
   ],
   "source": [
    "Y_train = train_df[\"Survived\"]\n",
    "X_train = train_df.drop(labels = [\"Survived\"],axis = 1)\n",
    "Test = test_df\n",
    "print(f\"X_train shape = {X_train.shape}\" )\n",
    "print(f\"Y_train shape = {Y_train.shape}\" )\n",
    "print(f\"Test shape = {Test.shape}\" )"
   ]
  },
  {
   "cell_type": "code",
   "execution_count": 21,
   "id": "1daf660e",
   "metadata": {
    "_kg_hide-output": true,
    "execution": {
     "iopub.execute_input": "2022-08-16T08:41:17.241509Z",
     "iopub.status.busy": "2022-08-16T08:41:17.240815Z",
     "iopub.status.idle": "2022-08-16T08:41:17.247287Z",
     "shell.execute_reply": "2022-08-16T08:41:17.246463Z"
    },
    "papermill": {
     "duration": 0.018282,
     "end_time": "2022-08-16T08:41:17.249417",
     "exception": false,
     "start_time": "2022-08-16T08:41:17.231135",
     "status": "completed"
    },
    "tags": []
   },
   "outputs": [],
   "source": [
    "X = train_df.drop('Survived', axis = 1)\n",
    "y = train_df['Survived']\n",
    "X_test = test_df.copy()"
   ]
  },
  {
   "cell_type": "markdown",
   "id": "24424b79",
   "metadata": {
    "papermill": {
     "duration": 0.008048,
     "end_time": "2022-08-16T08:41:17.266050",
     "exception": false,
     "start_time": "2022-08-16T08:41:17.258002",
     "status": "completed"
    },
    "tags": []
   },
   "source": [
    "**Scaling the data to make it ready for modelling**"
   ]
  },
  {
   "cell_type": "code",
   "execution_count": 22,
   "id": "983a5684",
   "metadata": {
    "execution": {
     "iopub.execute_input": "2022-08-16T08:41:17.285002Z",
     "iopub.status.busy": "2022-08-16T08:41:17.284389Z",
     "iopub.status.idle": "2022-08-16T08:41:17.294376Z",
     "shell.execute_reply": "2022-08-16T08:41:17.293492Z"
    },
    "papermill": {
     "duration": 0.022435,
     "end_time": "2022-08-16T08:41:17.296812",
     "exception": false,
     "start_time": "2022-08-16T08:41:17.274377",
     "status": "completed"
    },
    "tags": []
   },
   "outputs": [],
   "source": [
    "std_scaler = StandardScaler()\n",
    "X = std_scaler.fit_transform(X)\n",
    "X_test = std_scaler.transform(X_test)"
   ]
  },
  {
   "cell_type": "markdown",
   "id": "97a0a4e8",
   "metadata": {
    "papermill": {
     "duration": 0.008151,
     "end_time": "2022-08-16T08:41:17.313430",
     "exception": false,
     "start_time": "2022-08-16T08:41:17.305279",
     "status": "completed"
    },
    "tags": []
   },
   "source": [
    "### **Modelling**\n",
    "**Using K-Nearest Neighbours**"
   ]
  },
  {
   "cell_type": "code",
   "execution_count": 23,
   "id": "2a39bc58",
   "metadata": {
    "execution": {
     "iopub.execute_input": "2022-08-16T08:41:17.332940Z",
     "iopub.status.busy": "2022-08-16T08:41:17.332277Z",
     "iopub.status.idle": "2022-08-16T08:41:17.353206Z",
     "shell.execute_reply": "2022-08-16T08:41:17.352212Z"
    },
    "papermill": {
     "duration": 0.033695,
     "end_time": "2022-08-16T08:41:17.355742",
     "exception": false,
     "start_time": "2022-08-16T08:41:17.322047",
     "status": "completed"
    },
    "tags": []
   },
   "outputs": [
    {
     "data": {
      "text/plain": [
       "85.97"
      ]
     },
     "execution_count": 23,
     "metadata": {},
     "output_type": "execute_result"
    }
   ],
   "source": [
    "knn = KNeighborsClassifier(algorithm='auto', leaf_size=26, metric='minkowski', metric_params=None, \n",
    "                           n_jobs=1, n_neighbors=6, p=2, weights='uniform')\n",
    "knn.fit(X, y)\n",
    "y_pred = knn.predict(X_test)\n",
    "\n",
    "acc_knn = round(knn.score(X, y) * 100, 2)\n",
    "acc_knn"
   ]
  },
  {
   "cell_type": "code",
   "execution_count": 24,
   "id": "9544f691",
   "metadata": {
    "execution": {
     "iopub.execute_input": "2022-08-16T08:41:17.375430Z",
     "iopub.status.busy": "2022-08-16T08:41:17.374778Z",
     "iopub.status.idle": "2022-08-16T08:41:17.393987Z",
     "shell.execute_reply": "2022-08-16T08:41:17.392712Z"
    },
    "papermill": {
     "duration": 0.032254,
     "end_time": "2022-08-16T08:41:17.396803",
     "exception": false,
     "start_time": "2022-08-16T08:41:17.364549",
     "status": "completed"
    },
    "tags": []
   },
   "outputs": [],
   "source": [
    "submission = pd.DataFrame(pd.read_csv(\"../input/test.csv\")['PassengerId'])\n",
    "submission['Survived'] = y_pred\n",
    "submission.to_csv(\"../input/submission-knn-final.csv\", index = False)"
   ]
  }
 ],
 "metadata": {
  "kernelspec": {
   "display_name": "Python 3 (ipykernel)",
   "language": "python",
   "name": "python3"
  },
  "language_info": {
   "codemirror_mode": {
    "name": "ipython",
    "version": 3
   },
   "file_extension": ".py",
   "mimetype": "text/x-python",
   "name": "python",
   "nbconvert_exporter": "python",
   "pygments_lexer": "ipython3",
   "version": "3.9.12"
  },
  "papermill": {
   "default_parameters": {},
   "duration": 19.166642,
   "end_time": "2022-08-16T08:41:18.485340",
   "environment_variables": {},
   "exception": null,
   "input_path": "__notebook__.ipynb",
   "output_path": "__notebook__.ipynb",
   "parameters": {},
   "start_time": "2022-08-16T08:40:59.318698",
   "version": "2.3.4"
  }
 },
 "nbformat": 4,
 "nbformat_minor": 5
}
